{
 "cells": [
  {
   "cell_type": "code",
   "execution_count": 1,
   "metadata": {},
   "outputs": [],
   "source": [
    "# Import Dependencies\n",
    "from bs4 import BeautifulSoup as bs\n",
    "import pandas as pd\n",
    "from splinter import Browser\n",
    "from config import chrome_driver_path as cdp\n",
    "import time\n"
   ]
  },
  {
   "cell_type": "code",
   "execution_count": 21,
   "metadata": {},
   "outputs": [],
   "source": [
    "# Set execute path and default browser\n",
    "executable_path = {'executable_path': cdp}\n",
    "browser = Browser('chrome', **executable_path, headless=False)"
   ]
  },
  {
   "cell_type": "code",
   "execution_count": 3,
   "metadata": {},
   "outputs": [],
   "source": [
    "# Set url for NASA Mars News Site\n",
    "mars_url='https://mars.nasa.gov/news/'\n",
    "browser.visit(mars_url)\n",
    "# Set sleep time for 2 seconds\n",
    "time.sleep(2)\n",
    "html1=browser.html\n",
    "soup1=bs(html1,'html.parser')\n"
   ]
  },
  {
   "cell_type": "code",
   "execution_count": 4,
   "metadata": {},
   "outputs": [],
   "source": [
    "# Setting 'results' variable to find for the data\n",
    "results = soup1.find_all('li',attrs={'class':'slide'})\n"
   ]
  },
  {
   "cell_type": "code",
   "execution_count": 5,
   "metadata": {},
   "outputs": [
    {
     "name": "stdout",
     "output_type": "stream",
     "text": [
      "[<li class=\"slide\"><div class=\"image_and_description_container\"><a href=\"/news/8736/nasas-ingenuity-mars-helicopter-recharges-its-batteries-in-flight/\" target=\"_self\"><div class=\"rollover_description\"><div class=\"rollover_description_inner\">Headed to the Red Planet with the Perseverance rover, the pioneering helicopter is powered up for the first time in interplanetary space as part of a systems check.</div><div class=\"overlay_arrow\"><img alt=\"More\" src=\"/assets/overlay-arrow.png\"/></div></div><div class=\"list_image\"><img alt=\"Mars 2020 Perseverance rover and the Ingenuity Mars Helicopter\" src=\"/system/news_items/list_view_images/8736_PIA24043-Rover-and-Helicopter-320x240.jpg\"/></div><div class=\"bottom_gradient\"><div><h3>NASA's Ingenuity Mars Helicopter Recharges Its Batteries in Flight</h3></div></div></a><div class=\"list_text\"><div class=\"list_date\">August 13, 2020</div><div class=\"content_title\"><a href=\"/news/8736/nasas-ingenuity-mars-helicopter-recharges-its-batteries-in-flight/\" target=\"_self\">NASA's Ingenuity Mars Helicopter Recharges Its Batteries in Flight</a></div><div class=\"article_teaser_body\">Headed to the Red Planet with the Perseverance rover, the pioneering helicopter is powered up for the first time in interplanetary space as part of a systems check.</div></div></div></li>, <li class=\"slide\"><div class=\"image_and_description_container\"><a href=\"/news/8735/celebrate-mars-reconnaissance-orbiters-views-from-above/\" target=\"_self\"><div class=\"rollover_description\"><div class=\"rollover_description_inner\">Marking its 15th anniversary since launch, one of the oldest spacecraft at the Red Planet has provided glimpses of dust devils, avalanches, and more.</div><div class=\"overlay_arrow\"><img alt=\"More\" src=\"/assets/overlay-arrow.png\"/></div></div><div class=\"list_image\"><img alt=\"Side-by-side movies shows how the 2018 global dust storm enveloped Mars\" src=\"/system/news_items/list_view_images/8735_collage-320.jpg\"/></div><div class=\"bottom_gradient\"><div><h3>Celebrate Mars Reconnaissance Orbiter's Views From Above</h3></div></div></a><div class=\"list_text\"><div class=\"list_date\">August 12, 2020</div><div class=\"content_title\"><a href=\"/news/8735/celebrate-mars-reconnaissance-orbiters-views-from-above/\" target=\"_self\">Celebrate Mars Reconnaissance Orbiter's Views From Above</a></div><div class=\"article_teaser_body\">Marking its 15th anniversary since launch, one of the oldest spacecraft at the Red Planet has provided glimpses of dust devils, avalanches, and more.</div></div></div></li>, <li class=\"slide\"><div class=\"image_and_description_container\"><a href=\"/news/8731/nasas-maven-observes-martian-night-sky-pulsing-in-ultraviolet-light/\" target=\"_self\"><div class=\"rollover_description\"><div class=\"rollover_description_inner\">Vast areas of the Martian night sky pulse in ultraviolet light, according to images from NASA’s MAVEN spacecraft. The results are being used to illuminate complex circulation patterns in the Martian atmosphere.</div><div class=\"overlay_arrow\"><img alt=\"More\" src=\"/assets/overlay-arrow.png\"/></div></div><div class=\"list_image\"><img alt=\"ultraviolet “nightglow” in the Martian atmosphere\" src=\"/system/news_items/list_view_images/8731_MAVEN_nightglow_pulsating_spot-320x240.jpg\"/></div><div class=\"bottom_gradient\"><div><h3>NASA's MAVEN Observes Martian Night Sky Pulsing in Ultraviolet Light</h3></div></div></a><div class=\"list_text\"><div class=\"list_date\">August  6, 2020</div><div class=\"content_title\"><a href=\"/news/8731/nasas-maven-observes-martian-night-sky-pulsing-in-ultraviolet-light/\" target=\"_self\">NASA's MAVEN Observes Martian Night Sky Pulsing in Ultraviolet Light</a></div><div class=\"article_teaser_body\">Vast areas of the Martian night sky pulse in ultraviolet light, according to images from NASA’s MAVEN spacecraft. The results are being used to illuminate complex circulation patterns in the Martian atmosphere.</div></div></div></li>, <li class=\"slide\"><div class=\"image_and_description_container\"><a href=\"/news/8726/8-martian-postcards-to-celebrate-curiositys-landing-anniversary/\" target=\"_self\"><div class=\"rollover_description\"><div class=\"rollover_description_inner\">The NASA rover touched down eight years ago, on Aug. 5, 2012, and will soon be joined by a second rover, Perseverance.</div><div class=\"overlay_arrow\"><img alt=\"More\" src=\"/assets/overlay-arrow.png\"/></div></div><div class=\"list_image\"><img alt=\"Color view of Mars' Mount Sharp\" src=\"/system/news_items/list_view_images/8726_PIA23898-320.jpg\"/></div><div class=\"bottom_gradient\"><div><h3>8 Martian Postcards to Celebrate Curiosity's Landing Anniversary</h3></div></div></a><div class=\"list_text\"><div class=\"list_date\">August  3, 2020</div><div class=\"content_title\"><a href=\"/news/8726/8-martian-postcards-to-celebrate-curiositys-landing-anniversary/\" target=\"_self\">8 Martian Postcards to Celebrate Curiosity's Landing Anniversary</a></div><div class=\"article_teaser_body\">The NASA rover touched down eight years ago, on Aug. 5, 2012, and will soon be joined by a second rover, Perseverance.</div></div></div></li>, <li class=\"slide\"><div class=\"image_and_description_container\"><a href=\"/news/8724/nasa-ula-launch-mars-2020-perseverance-rover-mission-to-red-planet/\" target=\"_self\"><div class=\"rollover_description\"><div class=\"rollover_description_inner\">The agency's Mars 2020 mission is on its way. It will land at Jezero Crater in about seven months, on Feb. 18, 2021. </div><div class=\"overlay_arrow\"><img alt=\"More\" src=\"/assets/overlay-arrow.png\"/></div></div><div class=\"list_image\"><img alt=\"Launch of Mars Perseverance\" src=\"/system/news_items/list_view_images/8724_launchscreen-320x240.jpg\"/></div><div class=\"bottom_gradient\"><div><h3>NASA, ULA Launch Mars 2020 Perseverance Rover Mission to Red Planet</h3></div></div></a><div class=\"list_text\"><div class=\"list_date\">July 30, 2020</div><div class=\"content_title\"><a href=\"/news/8724/nasa-ula-launch-mars-2020-perseverance-rover-mission-to-red-planet/\" target=\"_self\">NASA, ULA Launch Mars 2020 Perseverance Rover Mission to Red Planet</a></div><div class=\"article_teaser_body\">The agency's Mars 2020 mission is on its way. It will land at Jezero Crater in about seven months, on Feb. 18, 2021. </div></div></div></li>, <li class=\"slide\"><div class=\"image_and_description_container\"><a href=\"/news/8723/nasas-perseverance-rover-will-carry-first-spacesuit-materials-to-mars/\" target=\"_self\"><div class=\"rollover_description\"><div class=\"rollover_description_inner\">In a Q&amp;A, spacesuit designer Amy Ross explains how five samples, including a piece of helmet visor, will be tested aboard the rover, which is targeting a July 30 launch. </div><div class=\"overlay_arrow\"><img alt=\"More\" src=\"/assets/overlay-arrow.png\"/></div></div><div class=\"list_image\"><img alt=\"An illustration of NASA astronauts on Mars\" src=\"/system/news_items/list_view_images/8723_PIA24031-320.jpg\"/></div><div class=\"bottom_gradient\"><div><h3>NASA's Perseverance Rover Will Carry First Spacesuit Materials to Mars</h3></div></div></a><div class=\"list_text\"><div class=\"list_date\">July 28, 2020</div><div class=\"content_title\"><a href=\"/news/8723/nasas-perseverance-rover-will-carry-first-spacesuit-materials-to-mars/\" target=\"_self\">NASA's Perseverance Rover Will Carry First Spacesuit Materials to Mars</a></div><div class=\"article_teaser_body\">In a Q&amp;A, spacesuit designer Amy Ross explains how five samples, including a piece of helmet visor, will be tested aboard the rover, which is targeting a July 30 launch. </div></div></div></li>, <li class=\"slide\"><div class=\"image_and_description_container\"><a href=\"/news/8721/a-new-video-captures-the-science-of-nasas-perseverance-mars-rover/\" target=\"_self\"><div class=\"rollover_description\"><div class=\"rollover_description_inner\">With a targeted launch date of July 30, the next robotic scientist NASA is sending to the to the Red Planet has big ambitions.</div><div class=\"overlay_arrow\"><img alt=\"More\" src=\"/assets/overlay-arrow.png\"/></div></div><div class=\"list_image\"><img alt=\"\" src=\"/system/news_items/list_view_images/8721_24759_PIA23491-320x240.jpg\"/></div><div class=\"bottom_gradient\"><div><h3>A New Video Captures the Science of NASA's Perseverance Mars Rover</h3></div></div></a><div class=\"list_text\"><div class=\"list_date\">July 27, 2020</div><div class=\"content_title\"><a href=\"/news/8721/a-new-video-captures-the-science-of-nasas-perseverance-mars-rover/\" target=\"_self\">A New Video Captures the Science of NASA's Perseverance Mars Rover</a></div><div class=\"article_teaser_body\">With a targeted launch date of July 30, the next robotic scientist NASA is sending to the to the Red Planet has big ambitions.</div></div></div></li>, <li class=\"slide\"><div class=\"image_and_description_container\"><a href=\"/news/8719/nasa-invites-public-to-share-excitement-of-mars-2020-perseverance-rover-launch/\" target=\"_self\"><div class=\"rollover_description\"><div class=\"rollover_description_inner\">There are lots of ways to participate in the historic event, which is targeted for July 30.</div><div class=\"overlay_arrow\"><img alt=\"More\" src=\"/assets/overlay-arrow.png\"/></div></div><div class=\"list_image\"><img alt=\"illustration of the Mars 2020 launch\" src=\"/system/news_items/list_view_images/8719_launch-at-home-320.jpg\"/></div><div class=\"bottom_gradient\"><div><h3>NASA Invites Public to Share Excitement of Mars 2020 Perseverance Rover Launch</h3></div></div></a><div class=\"list_text\"><div class=\"list_date\">July 23, 2020</div><div class=\"content_title\"><a href=\"/news/8719/nasa-invites-public-to-share-excitement-of-mars-2020-perseverance-rover-launch/\" target=\"_self\">NASA Invites Public to Share Excitement of Mars 2020 Perseverance Rover Launch</a></div><div class=\"article_teaser_body\">There are lots of ways to participate in the historic event, which is targeted for July 30.</div></div></div></li>, <li class=\"slide\"><div class=\"image_and_description_container\"><a href=\"/news/8718/nasas-mars-perseverance-rover-passes-flight-readiness-review/\" target=\"_self\"><div class=\"rollover_description\"><div class=\"rollover_description_inner\">​The agency's Mars 2020 mission has one more big prelaunch review – the Launch Readiness Review, on July 27.</div><div class=\"overlay_arrow\"><img alt=\"More\" src=\"/assets/overlay-arrow.png\"/></div></div><div class=\"list_image\"><img alt=\"payload fairing, or nose cone, containing NASA's Mars 2020 Perseverance rover\" src=\"/system/news_items/list_view_images/8718_25106_PIA23986-320.jpg\"/></div><div class=\"bottom_gradient\"><div><h3>NASA's Mars Perseverance Rover Passes Flight Readiness Review</h3></div></div></a><div class=\"list_text\"><div class=\"list_date\">July 22, 2020</div><div class=\"content_title\"><a href=\"/news/8718/nasas-mars-perseverance-rover-passes-flight-readiness-review/\" target=\"_self\">NASA's Mars Perseverance Rover Passes Flight Readiness Review</a></div><div class=\"article_teaser_body\">​The agency's Mars 2020 mission has one more big prelaunch review – the Launch Readiness Review, on July 27.</div></div></div></li>, <li class=\"slide\"><div class=\"image_and_description_container\"><a href=\"/news/8716/nasa-to-broadcast-mars-2020-perseverance-launch-prelaunch-activities/\" target=\"_self\"><div class=\"rollover_description\"><div class=\"rollover_description_inner\">Starting July 27, news activities will cover everything from mission engineering and science to returning samples from Mars to, of course, the launch itself.</div><div class=\"overlay_arrow\"><img alt=\"More\" src=\"/assets/overlay-arrow.png\"/></div></div><div class=\"list_image\"><img alt=\"Mars 2020 Perseverance Rover\" src=\"/system/news_items/list_view_images/8716_PIA23499-320x240.jpg\"/></div><div class=\"bottom_gradient\"><div><h3>NASA to Broadcast Mars 2020 Perseverance Launch, Prelaunch Activities</h3></div></div></a><div class=\"list_text\"><div class=\"list_date\">July 17, 2020</div><div class=\"content_title\"><a href=\"/news/8716/nasa-to-broadcast-mars-2020-perseverance-launch-prelaunch-activities/\" target=\"_self\">NASA to Broadcast Mars 2020 Perseverance Launch, Prelaunch Activities</a></div><div class=\"article_teaser_body\">Starting July 27, news activities will cover everything from mission engineering and science to returning samples from Mars to, of course, the launch itself.</div></div></div></li>, <li class=\"slide\"><div class=\"image_and_description_container\"><a href=\"/news/8712/6-things-to-know-about-nasas-ingenuity-mars-helicopter/\" target=\"_self\"><div class=\"rollover_description\"><div class=\"rollover_description_inner\">The first helicopter attempting to fly on another planet is a marvel of engineering. Get up to speed with these key facts about its plans.</div><div class=\"overlay_arrow\"><img alt=\"More\" src=\"/assets/overlay-arrow.png\"/></div></div><div class=\"list_image\"><img alt=\"\" src=\"/system/news_items/list_view_images/8712_PIA23720-320x240.jpg\"/></div><div class=\"bottom_gradient\"><div><h3>6 Things to Know About NASA's Ingenuity Mars Helicopter</h3></div></div></a><div class=\"list_text\"><div class=\"list_date\">July 14, 2020</div><div class=\"content_title\"><a href=\"/news/8712/6-things-to-know-about-nasas-ingenuity-mars-helicopter/\" target=\"_self\">6 Things to Know About NASA's Ingenuity Mars Helicopter</a></div><div class=\"article_teaser_body\">The first helicopter attempting to fly on another planet is a marvel of engineering. Get up to speed with these key facts about its plans.</div></div></div></li>, <li class=\"slide\"><div class=\"image_and_description_container\"><a href=\"/news/8710/join-nasa-for-the-launch-of-the-mars-2020-perseverance-rover/\" target=\"_self\"><div class=\"rollover_description\"><div class=\"rollover_description_inner\">No matter where you live, choose from a menu of activities to join NASA as we \"Countdown to Mars\" and launch the Perseverance rover to the Red Planet.</div><div class=\"overlay_arrow\"><img alt=\"More\" src=\"/assets/overlay-arrow.png\"/></div></div><div class=\"list_image\"><img alt=\"Illustration of the Mars 2020 launch\" src=\"/system/news_items/list_view_images/8710_MARS2020_LAUNCH_320.jpg\"/></div><div class=\"bottom_gradient\"><div><h3>Join NASA for the Launch of the Mars 2020 Perseverance Rover</h3></div></div></a><div class=\"list_text\"><div class=\"list_date\">July 10, 2020</div><div class=\"content_title\"><a href=\"/news/8710/join-nasa-for-the-launch-of-the-mars-2020-perseverance-rover/\" target=\"_self\">Join NASA for the Launch of the Mars 2020 Perseverance Rover</a></div><div class=\"article_teaser_body\">No matter where you live, choose from a menu of activities to join NASA as we \"Countdown to Mars\" and launch the Perseverance rover to the Red Planet.</div></div></div></li>, <li class=\"slide\"><div class=\"image_and_description_container\"><a href=\"/news/8709/nasas-perseverance-rover-attached-to-atlas-v-rocket/\" target=\"_self\"><div class=\"rollover_description\"><div class=\"rollover_description_inner\">Ready for its launch later in the month, the Mars-bound rover will touch terra firma no more.</div><div class=\"overlay_arrow\"><img alt=\"More\" src=\"/assets/overlay-arrow.png\"/></div></div><div class=\"list_image\"><img alt=\"The nose cone containing the Mars 2020 Perseverance rover sits atop a motorized payload transporter at Cape Canaveral Air Force Station in Florida on July 7, 2020. \" src=\"/system/news_items/list_view_images/8709_25105_PIA23985-320x240.jpg\"/></div><div class=\"bottom_gradient\"><div><h3>NASA's Perseverance Rover Attached to Atlas V Rocket</h3></div></div></a><div class=\"list_text\"><div class=\"list_date\">July  9, 2020</div><div class=\"content_title\"><a href=\"/news/8709/nasas-perseverance-rover-attached-to-atlas-v-rocket/\" target=\"_self\">NASA's Perseverance Rover Attached to Atlas V Rocket</a></div><div class=\"article_teaser_body\">Ready for its launch later in the month, the Mars-bound rover will touch terra firma no more.</div></div></div></li>, <li class=\"slide\"><div class=\"image_and_description_container\"><a href=\"/news/8707/7-things-to-know-about-the-mars-2020-perseverance-rover-mission/\" target=\"_self\"><div class=\"rollover_description\"><div class=\"rollover_description_inner\">NASA's next rover to the Red Planet is slated to launch no earlier than July 30. These highlights will get you up to speed on the ambitious mission.</div><div class=\"overlay_arrow\"><img alt=\"More\" src=\"/assets/overlay-arrow.png\"/></div></div><div class=\"list_image\"><img alt=\"An illustration of NASA's Perseverance rover operating on the surface of Mars\" src=\"/system/news_items/list_view_images/8707_PIA23764-320.jpg\"/></div><div class=\"bottom_gradient\"><div><h3>7 Things to Know About the Mars 2020 Perseverance Rover Mission</h3></div></div></a><div class=\"list_text\"><div class=\"list_date\">July  8, 2020</div><div class=\"content_title\"><a href=\"/news/8707/7-things-to-know-about-the-mars-2020-perseverance-rover-mission/\" target=\"_self\">7 Things to Know About the Mars 2020 Perseverance Rover Mission</a></div><div class=\"article_teaser_body\">NASA's next rover to the Red Planet is slated to launch no earlier than July 30. These highlights will get you up to speed on the ambitious mission.</div></div></div></li>, <li class=\"slide\"><div class=\"image_and_description_container\"><a href=\"/news/8705/nasas-insight-flexes-its-arm-while-its-mole-hits-pause/\" target=\"_self\"><div class=\"rollover_description\"><div class=\"rollover_description_inner\">Now that the lander's robotic arm has helped the mole get underground, it will resume science activities that have been on hold.</div><div class=\"overlay_arrow\"><img alt=\"More\" src=\"/assets/overlay-arrow.png\"/></div></div><div class=\"list_image\"><img alt=\"InSight's self-hammering &quot;mole,&quot; which is in the soil beneath the scoop, had begun tapping the bottom of the scoop while hammering on June 20, 2020.\" src=\"/system/news_items/list_view_images/8705_PIA23896-226.jpg\"/></div><div class=\"bottom_gradient\"><div><h3>NASA's InSight Flexes Its Arm While Its 'Mole' Hits Pause</h3></div></div></a><div class=\"list_text\"><div class=\"list_date\">July  7, 2020</div><div class=\"content_title\"><a href=\"/news/8705/nasas-insight-flexes-its-arm-while-its-mole-hits-pause/\" target=\"_self\">NASA's InSight Flexes Its Arm While Its 'Mole' Hits Pause</a></div><div class=\"article_teaser_body\">Now that the lander's robotic arm has helped the mole get underground, it will resume science activities that have been on hold.</div></div></div></li>, <li class=\"slide\"><div class=\"image_and_description_container\"><a href=\"/news/8704/curiosity-mars-rovers-summer-road-trip-has-begun/\" target=\"_self\"><div class=\"rollover_description\"><div class=\"rollover_description_inner\">After more than a year in the \"clay-bearing unit,\" Curiosity is making a mile-long journey around some deep sand so that it can explore higher up Mount Sharp.</div><div class=\"overlay_arrow\"><img alt=\"More\" src=\"/assets/overlay-arrow.png\"/></div></div><div class=\"list_image\"><img alt=\"This view captured by NASA's Curiosity Mars rover shows the path it will take in the summer of 2020 as it drives toward the next region it will be investigating, the &quot;sulfate-bearing unit.&quot;\" src=\"/system/news_items/list_view_images/8704_PIA23973-320x240.jpg\"/></div><div class=\"bottom_gradient\"><div><h3>Curiosity Mars Rover's Summer Road Trip Has Begun</h3></div></div></a><div class=\"list_text\"><div class=\"list_date\">July  6, 2020</div><div class=\"content_title\"><a href=\"/news/8704/curiosity-mars-rovers-summer-road-trip-has-begun/\" target=\"_self\">Curiosity Mars Rover's Summer Road Trip Has Begun</a></div><div class=\"article_teaser_body\">After more than a year in the \"clay-bearing unit,\" Curiosity is making a mile-long journey around some deep sand so that it can explore higher up Mount Sharp.</div></div></div></li>, <li class=\"slide\"><div class=\"image_and_description_container\"><a href=\"/news/8699/how-nasas-mars-helicopter-will-reach-the-red-planets-surface/\" target=\"_self\"><div class=\"rollover_description\"><div class=\"rollover_description_inner\">The small craft will seek to prove that powered, controlled flight is possible on another planet. But just getting it onto the surface of Mars will take a whole lot of ingenuity.</div><div class=\"overlay_arrow\"><img alt=\"More\" src=\"/assets/overlay-arrow.png\"/></div></div><div class=\"list_image\"><img alt=\"Video clip - an engineer observes a test of the Mars Helicopter Delivery System \" src=\"/system/news_items/list_view_images/8699_helicopter-delivery-system-320.jpg\"/></div><div class=\"bottom_gradient\"><div><h3>How NASA's Mars Helicopter Will Reach the Red Planet's Surface</h3></div></div></a><div class=\"list_text\"><div class=\"list_date\">June 23, 2020</div><div class=\"content_title\"><a href=\"/news/8699/how-nasas-mars-helicopter-will-reach-the-red-planets-surface/\" target=\"_self\">How NASA's Mars Helicopter Will Reach the Red Planet's Surface</a></div><div class=\"article_teaser_body\">The small craft will seek to prove that powered, controlled flight is possible on another planet. But just getting it onto the surface of Mars will take a whole lot of ingenuity.</div></div></div></li>, <li class=\"slide\"><div class=\"image_and_description_container\"><a href=\"/news/8695/the-launch-is-approaching-for-nasas-next-mars-rover-perseverance/\" target=\"_self\"><div class=\"rollover_description\"><div class=\"rollover_description_inner\">The Red Planet's surface has been visited by eight NASA spacecraft. The ninth will be the first that includes a roundtrip ticket in its flight plan. </div><div class=\"overlay_arrow\"><img alt=\"More\" src=\"/assets/overlay-arrow.png\"/></div></div><div class=\"list_image\"><img alt=\"In a clean room at NASA's Jet Propulsion Laboratory in Southern California, engineers observed the first driving test for NASA's Mars 2020 rover on Dec. 17, 2019.\" src=\"/system/news_items/list_view_images/8695_24732_PIA23499-226.jpg\"/></div><div class=\"bottom_gradient\"><div><h3>The Launch Is Approaching for NASA's Next Mars Rover, Perseverance</h3></div></div></a><div class=\"list_text\"><div class=\"list_date\">June 17, 2020</div><div class=\"content_title\"><a href=\"/news/8695/the-launch-is-approaching-for-nasas-next-mars-rover-perseverance/\" target=\"_self\">The Launch Is Approaching for NASA's Next Mars Rover, Perseverance</a></div><div class=\"article_teaser_body\">The Red Planet's surface has been visited by eight NASA spacecraft. The ninth will be the first that includes a roundtrip ticket in its flight plan. </div></div></div></li>, <li class=\"slide\"><div class=\"image_and_description_container\"><a href=\"/news/8692/nasa-to-hold-mars-2020-perseverance-rover-launch-briefing/\" target=\"_self\"><div class=\"rollover_description\"><div class=\"rollover_description_inner\">Learn more about the agency's next Red Planet mission during a live event on June 17.</div><div class=\"overlay_arrow\"><img alt=\"More\" src=\"/assets/overlay-arrow.png\"/></div></div><div class=\"list_image\"><img alt=\"Artist's rendering of Perseverance on Mars\" src=\"/system/news_items/list_view_images/8692_PIA23920-320x240.jpg\"/></div><div class=\"bottom_gradient\"><div><h3>NASA to Hold Mars 2020 Perseverance Rover Launch Briefing</h3></div></div></a><div class=\"list_text\"><div class=\"list_date\">June 15, 2020</div><div class=\"content_title\"><a href=\"/news/8692/nasa-to-hold-mars-2020-perseverance-rover-launch-briefing/\" target=\"_self\">NASA to Hold Mars 2020 Perseverance Rover Launch Briefing</a></div><div class=\"article_teaser_body\">Learn more about the agency's next Red Planet mission during a live event on June 17.</div></div></div></li>, <li class=\"slide\"><div class=\"image_and_description_container\"><a href=\"/news/8691/while-stargazing-on-mars-nasas-curiosity-rover-spots-earth-and-venus/\" target=\"_self\"><div class=\"rollover_description\"><div class=\"rollover_description_inner\">This new portrait of the Red Planet's neighbors was taken during a time when there's more dust in the air on Mars.</div><div class=\"overlay_arrow\"><img alt=\"More\" src=\"/assets/overlay-arrow.png\"/></div></div><div class=\"list_image\"><img alt=\"Earth and Venus as seen by the Mast Camera aboard NASA's Curiosity Mars rover\" src=\"/system/news_items/list_view_images/8691_rover-overlay-226.jpg\"/></div><div class=\"bottom_gradient\"><div><h3>While Stargazing on Mars, NASA's Curiosity Rover Spots Earth and Venus</h3></div></div></a><div class=\"list_text\"><div class=\"list_date\">June 15, 2020</div><div class=\"content_title\"><a href=\"/news/8691/while-stargazing-on-mars-nasas-curiosity-rover-spots-earth-and-venus/\" target=\"_self\">While Stargazing on Mars, NASA's Curiosity Rover Spots Earth and Venus</a></div><div class=\"article_teaser_body\">This new portrait of the Red Planet's neighbors was taken during a time when there's more dust in the air on Mars.</div></div></div></li>, <li class=\"slide\"><div class=\"image_and_description_container\"><a href=\"/news/8689/nasas-mars-rover-drivers-need-your-help/\" target=\"_self\"><div class=\"rollover_description\"><div class=\"rollover_description_inner\">Using an online tool to label Martian terrain types, you can train an artificial intelligence algorithm that could improve the way engineers guide the Curiosity rover.</div><div class=\"overlay_arrow\"><img alt=\"More\" src=\"/assets/overlay-arrow.png\"/></div></div><div class=\"list_image\"><img alt=\"Three images from the tool called AI for Mars\" src=\"/system/news_items/list_view_images/8689_PIA23897-320x240.jpg\"/></div><div class=\"bottom_gradient\"><div><h3>NASA's Mars Rover Drivers Need Your Help</h3></div></div></a><div class=\"list_text\"><div class=\"list_date\">June 12, 2020</div><div class=\"content_title\"><a href=\"/news/8689/nasas-mars-rover-drivers-need-your-help/\" target=\"_self\">NASA's Mars Rover Drivers Need Your Help</a></div><div class=\"article_teaser_body\">Using an online tool to label Martian terrain types, you can train an artificial intelligence algorithm that could improve the way engineers guide the Curiosity rover.</div></div></div></li>, <li class=\"slide\"><div class=\"image_and_description_container\"><a href=\"/news/8687/three-new-views-of-mars-moon-phobos/\" target=\"_self\"><div class=\"rollover_description\"><div class=\"rollover_description_inner\">Taken with the infrared camera aboard NASA's Odyssey orbiter, they reveal temperature variations on the small moon as it drifts into and out of Mars’ shadow.</div><div class=\"overlay_arrow\"><img alt=\"More\" src=\"/assets/overlay-arrow.png\"/></div></div><div class=\"list_image\"><img alt=\"Six views of the Martian moon Phobos\" src=\"/system/news_items/list_view_images/8687_PIA23893-Odyssey-Phobos-320.jpg\"/></div><div class=\"bottom_gradient\"><div><h3>Three New Views of Mars' Moon Phobos</h3></div></div></a><div class=\"list_text\"><div class=\"list_date\">June  8, 2020</div><div class=\"content_title\"><a href=\"/news/8687/three-new-views-of-mars-moon-phobos/\" target=\"_self\">Three New Views of Mars' Moon Phobos</a></div><div class=\"article_teaser_body\">Taken with the infrared camera aboard NASA's Odyssey orbiter, they reveal temperature variations on the small moon as it drifts into and out of Mars’ shadow.</div></div></div></li>, <li class=\"slide\"><div class=\"image_and_description_container\"><a href=\"/news/8682/the-extraordinary-sample-gathering-system-of-nasas-perseverance-mars-rover/\" target=\"_self\"><div class=\"rollover_description\"><div class=\"rollover_description_inner\">Two astronauts collected Moon rocks on Apollo 11. It will take three robotic systems working together to gather up the first Mars rock samples for return to Earth.</div><div class=\"overlay_arrow\"><img alt=\"More\" src=\"/assets/overlay-arrow.png\"/></div></div><div class=\"list_image\"><img alt=\"PL engineers monitor testing of the Perseverance rover's Sample Caching System \" src=\"/system/news_items/list_view_images/8682_SCS-16-MAIN-320.jpg\"/></div><div class=\"bottom_gradient\"><div><h3>The Extraordinary Sample-Gathering System of NASA's Perseverance Mars Rover</h3></div></div></a><div class=\"list_text\"><div class=\"list_date\">June  2, 2020</div><div class=\"content_title\"><a href=\"/news/8682/the-extraordinary-sample-gathering-system-of-nasas-perseverance-mars-rover/\" target=\"_self\">The Extraordinary Sample-Gathering System of NASA's Perseverance Mars Rover</a></div><div class=\"article_teaser_body\">Two astronauts collected Moon rocks on Apollo 11. It will take three robotic systems working together to gather up the first Mars rock samples for return to Earth.</div></div></div></li>, <li class=\"slide\"><div class=\"image_and_description_container\"><a href=\"/news/8678/the-detective-aboard-nasas-perseverance-rover/\" target=\"_self\"><div class=\"rollover_description\"><div class=\"rollover_description_inner\">An instrument called SHERLOC will, with the help of its partner WATSON, hunt for signs of ancient life by detecting organic molecules and minerals.</div><div class=\"overlay_arrow\"><img alt=\"More\" src=\"/assets/overlay-arrow.png\"/></div></div><div class=\"list_image\"><img alt=\"This artist's concept depicts NASA's Mars 2020 rover exploring Mars. \" src=\"/system/news_items/list_view_images/8678_21379_PIA22107-320x240.jpg\"/></div><div class=\"bottom_gradient\"><div><h3>The Detective Aboard NASA's Perseverance Rover</h3></div></div></a><div class=\"list_text\"><div class=\"list_date\">May 26, 2020</div><div class=\"content_title\"><a href=\"/news/8678/the-detective-aboard-nasas-perseverance-rover/\" target=\"_self\">The Detective Aboard NASA's Perseverance Rover</a></div><div class=\"article_teaser_body\">An instrument called SHERLOC will, with the help of its partner WATSON, hunt for signs of ancient life by detecting organic molecules and minerals.</div></div></div></li>, <li class=\"slide\"><div class=\"image_and_description_container\"><a href=\"/news/8680/maven-maps-electric-currents-around-mars-that-are-fundamental-to-atmospheric-loss/\" target=\"_self\"><div class=\"rollover_description\"><div class=\"rollover_description_inner\">Five years after NASA’s MAVEN spacecraft entered into orbit around Mars, data from the mission has led to the creation of a map of electric current systems in the Martian atmosphere.</div><div class=\"overlay_arrow\"><img alt=\"More\" src=\"/assets/overlay-arrow.png\"/></div></div><div class=\"list_image\"><img alt=\"\" src=\"/system/news_items/list_view_images/8680_mavenmarselectriccurrents-320x240.jpg\"/></div><div class=\"bottom_gradient\"><div><h3>MAVEN Maps Electric Currents around Mars that are Fundamental to Atmospheric Loss</h3></div></div></a><div class=\"list_text\"><div class=\"list_date\">May 25, 2020</div><div class=\"content_title\"><a href=\"/news/8680/maven-maps-electric-currents-around-mars-that-are-fundamental-to-atmospheric-loss/\" target=\"_self\">MAVEN Maps Electric Currents around Mars that are Fundamental to Atmospheric Loss</a></div><div class=\"article_teaser_body\">Five years after NASA’s MAVEN spacecraft entered into orbit around Mars, data from the mission has led to the creation of a map of electric current systems in the Martian atmosphere.</div></div></div></li>, <li class=\"slide\"><div class=\"image_and_description_container\"><a href=\"/news/8677/air-deliveries-bring-nasas-perseverance-mars-rover-closer-to-launch/\" target=\"_self\"><div class=\"rollover_description\"><div class=\"rollover_description_inner\">A NASA Wallops Flight Facility cargo plane transported more than two tons of equipment — including the rover's sample collection tubes — to Florida for this summer's liftoff.</div><div class=\"overlay_arrow\"><img alt=\"More\" src=\"/assets/overlay-arrow.png\"/></div></div><div class=\"list_image\"><img alt=\"This animated GIF shows a NASA Wallops Flight Facility C-130 soon after landing Kennedy Space Center in Florida\" src=\"/system/news_items/list_view_images/8677_airplane20200521-320.jpg\"/></div><div class=\"bottom_gradient\"><div><h3>Air Deliveries Bring NASA's Perseverance Mars Rover Closer to Launch</h3></div></div></a><div class=\"list_text\"><div class=\"list_date\">May 21, 2020</div><div class=\"content_title\"><a href=\"/news/8677/air-deliveries-bring-nasas-perseverance-mars-rover-closer-to-launch/\" target=\"_self\">Air Deliveries Bring NASA's Perseverance Mars Rover Closer to Launch</a></div><div class=\"article_teaser_body\">A NASA Wallops Flight Facility cargo plane transported more than two tons of equipment — including the rover's sample collection tubes — to Florida for this summer's liftoff.</div></div></div></li>, <li class=\"slide\"><div class=\"image_and_description_container\"><a href=\"/news/8675/nasa-wins-4-webbys-4-peoples-voice-awards/\" target=\"_self\"><div class=\"rollover_description\"><div class=\"rollover_description_inner\">Winners include the JPL-managed \"Send Your Name to Mars\" campaign, NASA's Global Climate Change website and Solar System Interactive.</div><div class=\"overlay_arrow\"><img alt=\"More\" src=\"/assets/overlay-arrow.png\"/></div></div><div class=\"list_image\"><img alt=\"NASA took home eight wins at the 2020 Webby Awards, including a juried prize and People's Voice award for the &quot;Send Your Name to Mars&quot; campaign. The Webby Awards logo is seen here against an illustration of Mars. \" src=\"/system/news_items/list_view_images/8675_Webby_main_320x240.jpg\"/></div><div class=\"bottom_gradient\"><div><h3>NASA Wins 4 Webbys, 4 People's Voice Awards</h3></div></div></a><div class=\"list_text\"><div class=\"list_date\">May 19, 2020</div><div class=\"content_title\"><a href=\"/news/8675/nasa-wins-4-webbys-4-peoples-voice-awards/\" target=\"_self\">NASA Wins 4 Webbys, 4 People's Voice Awards</a></div><div class=\"article_teaser_body\">Winners include the JPL-managed \"Send Your Name to Mars\" campaign, NASA's Global Climate Change website and Solar System Interactive.</div></div></div></li>, <li class=\"slide\"><div class=\"image_and_description_container\"><a href=\"/news/8671/nasas-perseverance-rover-goes-through-trials-by-fire-ice-light-and-sound/\" target=\"_self\"><div class=\"rollover_description\"><div class=\"rollover_description_inner\">The agency's new Mars rover is put through a series of tests in vacuum chambers, acoustic chambers and more to get ready for the Red Planet.</div><div class=\"overlay_arrow\"><img alt=\"More\" src=\"/assets/overlay-arrow.png\"/></div></div><div class=\"list_image\"><img alt=\"\" src=\"/system/news_items/list_view_images/8671_PIA23890-320.jpg\"/></div><div class=\"bottom_gradient\"><div><h3>NASA's Perseverance Rover Goes Through Trials by Fire, Ice, Light and Sound</h3></div></div></a><div class=\"list_text\"><div class=\"list_date\">May 18, 2020</div><div class=\"content_title\"><a href=\"/news/8671/nasas-perseverance-rover-goes-through-trials-by-fire-ice-light-and-sound/\" target=\"_self\">NASA's Perseverance Rover Goes Through Trials by Fire, Ice, Light and Sound</a></div><div class=\"article_teaser_body\">The agency's new Mars rover is put through a series of tests in vacuum chambers, acoustic chambers and more to get ready for the Red Planet.</div></div></div></li>, <li class=\"slide\"><div class=\"image_and_description_container\"><a href=\"/news/8657/nasas-perseverance-rover-mission-getting-in-shape-for-launch/\" target=\"_self\"><div class=\"rollover_description\"><div class=\"rollover_description_inner\">Stacking spacecraft components on top of each other is one of the final assembly steps before a mission launches to the Red Planet. </div><div class=\"overlay_arrow\"><img alt=\"More\" src=\"/assets/overlay-arrow.png\"/></div></div><div class=\"list_image\"><img alt=\"Image of the underside of the Mars 2020 rover\" src=\"/system/news_items/list_view_images/8657_1-PIA23884-320x240.jpg\"/></div><div class=\"bottom_gradient\"><div><h3>NASA's Perseverance Rover Mission Getting in Shape for Launch</h3></div></div></a><div class=\"list_text\"><div class=\"list_date\">May  7, 2020</div><div class=\"content_title\"><a href=\"/news/8657/nasas-perseverance-rover-mission-getting-in-shape-for-launch/\" target=\"_self\">NASA's Perseverance Rover Mission Getting in Shape for Launch</a></div><div class=\"article_teaser_body\">Stacking spacecraft components on top of each other is one of the final assembly steps before a mission launches to the Red Planet. </div></div></div></li>, <li class=\"slide\"><div class=\"image_and_description_container\"><a href=\"/news/8666/nasa-perseverance-mars-rover-scientists-train-in-the-nevada-desert/\" target=\"_self\"><div class=\"rollover_description\"><div class=\"rollover_description_inner\">Team members searched for signs of ancient microscopic life there, just as NASA's latest rover will on the Red Planet next year.</div><div class=\"overlay_arrow\"><img alt=\"More\" src=\"/assets/overlay-arrow.png\"/></div></div><div class=\"list_image\"><img alt=\"A field team sets up equipment in a dry lakebed in the Nevada \" src=\"/system/news_items/list_view_images/8666_PIA23776-main-320x240.jpg\"/></div><div class=\"bottom_gradient\"><div><h3>NASA Perseverance Mars Rover Scientists Train in the Nevada Desert</h3></div></div></a><div class=\"list_text\"><div class=\"list_date\">May  6, 2020</div><div class=\"content_title\"><a href=\"/news/8666/nasa-perseverance-mars-rover-scientists-train-in-the-nevada-desert/\" target=\"_self\">NASA Perseverance Mars Rover Scientists Train in the Nevada Desert</a></div><div class=\"article_teaser_body\">Team members searched for signs of ancient microscopic life there, just as NASA's latest rover will on the Red Planet next year.</div></div></div></li>, <li class=\"slide\"><div class=\"image_and_description_container\"><a href=\"/news/8663/nasas-perseverance-rover-will-look-at-mars-through-these-eyes/\" target=\"_self\"><div class=\"rollover_description\"><div class=\"rollover_description_inner\">A pair of zoomable cameras will help scientists and rover drivers with high-resolution color images.</div><div class=\"overlay_arrow\"><img alt=\"More\" src=\"/assets/overlay-arrow.png\"/></div></div><div class=\"list_image\"><img alt=\"A close-up of the head of Mars 2020's remote sensing mast.\" src=\"/system/news_items/list_view_images/8663_PIA23316-annotated-16-320x240.jpg\"/></div><div class=\"bottom_gradient\"><div><h3>NASA's Perseverance Rover Will Look at Mars Through These 'Eyes'</h3></div></div></a><div class=\"list_text\"><div class=\"list_date\">May  1, 2020</div><div class=\"content_title\"><a href=\"/news/8663/nasas-perseverance-rover-will-look-at-mars-through-these-eyes/\" target=\"_self\">NASA's Perseverance Rover Will Look at Mars Through These 'Eyes'</a></div><div class=\"article_teaser_body\">A pair of zoomable cameras will help scientists and rover drivers with high-resolution color images.</div></div></div></li>, <li class=\"slide\"><div class=\"image_and_description_container\"><a href=\"/news/8662/meet-the-people-behind-nasas-perseverance-rover/\" target=\"_self\"><div class=\"rollover_description\"><div class=\"rollover_description_inner\">These are the scientists and engineers who built NASA's next Mars rover and who will guide it to a safe landing in Jezero Crater. </div><div class=\"overlay_arrow\"><img alt=\"More\" src=\"/assets/overlay-arrow.png\"/></div></div><div class=\"list_image\"><img alt=\"From left to right: Moo Stricker, Al Chen, Diana Trujillo, Eric Aguilar and Michelle Tomey Colizzi as they appear in a new &quot;Behind the Spacecraft&quot; video series about the NASA's Perseverance Mars rover.\" src=\"/system/news_items/list_view_images/8662_video-collage-perseverance-320x240.jpg\"/></div><div class=\"bottom_gradient\"><div><h3>Meet the People Behind NASA's Perseverance Rover</h3></div></div></a><div class=\"list_text\"><div class=\"list_date\">April 30, 2020</div><div class=\"content_title\"><a href=\"/news/8662/meet-the-people-behind-nasas-perseverance-rover/\" target=\"_self\">Meet the People Behind NASA's Perseverance Rover</a></div><div class=\"article_teaser_body\">These are the scientists and engineers who built NASA's next Mars rover and who will guide it to a safe landing in Jezero Crater. </div></div></div></li>, <li class=\"slide\"><div class=\"image_and_description_container\"><a href=\"/news/8660/qa-with-the-student-who-named-ingenuity-nasas-mars-helicopter/\" target=\"_self\"><div class=\"rollover_description\"><div class=\"rollover_description_inner\">As a longtime fan of space exploration, Vaneeza Rupani appreciates the creativity and collaboration involved with trying to fly on another planet.</div><div class=\"overlay_arrow\"><img alt=\"More\" src=\"/assets/overlay-arrow.png\"/></div></div><div class=\"list_image\"><img alt=\"Vaneeza Rupani, the 11th grader who named the Mars Helicopter (Ingenuity), at home in Northport, Alabama.\" src=\"/system/news_items/list_view_images/8660_24934_3-courtesyRupanifamily-320x240.jpg\"/></div><div class=\"bottom_gradient\"><div><h3>Q&amp;A with the Student Who Named Ingenuity, NASA's Mars Helicopter</h3></div></div></a><div class=\"list_text\"><div class=\"list_date\">April 29, 2020</div><div class=\"content_title\"><a href=\"/news/8660/qa-with-the-student-who-named-ingenuity-nasas-mars-helicopter/\" target=\"_self\">Q&amp;A with the Student Who Named Ingenuity, NASA's Mars Helicopter</a></div><div class=\"article_teaser_body\">As a longtime fan of space exploration, Vaneeza Rupani appreciates the creativity and collaboration involved with trying to fly on another planet.</div></div></div></li>, <li class=\"slide\"><div class=\"image_and_description_container\"><a href=\"/news/8659/alabama-high-school-student-names-nasas-mars-helicopter/\" target=\"_self\"><div class=\"rollover_description\"><div class=\"rollover_description_inner\">Vaneeza Rupani's essay was chosen as the name for the small spacecraft, which will mark NASA's first attempt at powered flight on another planet.</div><div class=\"overlay_arrow\"><img alt=\"More\" src=\"/assets/overlay-arrow.png\"/></div></div><div class=\"list_image\"><img alt=\"Vaneeza Rupani (inset), a junior at Tuscaloosa County High School in Northport, Alabama, came up with the name Ingenuity for NASA's Mars Helicopter (an artist's impression of which is seen here) and the motivation behind it during NASA's &quot;Name the Rover&quot; essay contest. \" src=\"/system/news_items/list_view_images/8659_1-PIA23883-MAIN-320x240.jpg\"/></div><div class=\"bottom_gradient\"><div><h3>Alabama High School Student Names NASA's Mars Helicopter</h3></div></div></a><div class=\"list_text\"><div class=\"list_date\">April 29, 2020</div><div class=\"content_title\"><a href=\"/news/8659/alabama-high-school-student-names-nasas-mars-helicopter/\" target=\"_self\">Alabama High School Student Names NASA's Mars Helicopter</a></div><div class=\"article_teaser_body\">Vaneeza Rupani's essay was chosen as the name for the small spacecraft, which will mark NASA's first attempt at powered flight on another planet.</div></div></div></li>, <li class=\"slide\"><div class=\"image_and_description_container\"><a href=\"/news/8654/how-nasas-perseverance-mars-team-adjusted-to-work-in-the-time-of-coronavirus/\" target=\"_self\"><div class=\"rollover_description\"><div class=\"rollover_description_inner\">Like much of the rest of the world, the Mars rover team is pushing forward with its mission-critical work while putting the health and safety of their colleagues and community first.</div><div class=\"overlay_arrow\"><img alt=\"More\" src=\"/assets/overlay-arrow.png\"/></div></div><div class=\"list_image\"><img alt=\"Members of NASA's Perseverance rover mission work remotely from home during the coronavirus outbreak.\" src=\"/system/news_items/list_view_images/8654_MAIN-IMAGE-PIA23881-320x240.jpg\"/></div><div class=\"bottom_gradient\"><div><h3>How NASA's Perseverance Mars Team Adjusted to Work in the Time of Coronavirus </h3></div></div></a><div class=\"list_text\"><div class=\"list_date\">April 21, 2020</div><div class=\"content_title\"><a href=\"/news/8654/how-nasas-perseverance-mars-team-adjusted-to-work-in-the-time-of-coronavirus/\" target=\"_self\">How NASA's Perseverance Mars Team Adjusted to Work in the Time of Coronavirus </a></div><div class=\"article_teaser_body\">Like much of the rest of the world, the Mars rover team is pushing forward with its mission-critical work while putting the health and safety of their colleagues and community first.</div></div></div></li>, <li class=\"slide\"><div class=\"image_and_description_container\"><a href=\"/news/8649/nasas-perseverance-mars-rover-gets-balanced/\" target=\"_self\"><div class=\"rollover_description\"><div class=\"rollover_description_inner\">The mission team performed a crucial weight-balancing test on the rover in preparation for this summer's history-making launch to the Red Planet.</div><div class=\"overlay_arrow\"><img alt=\"More\" src=\"/assets/overlay-arrow.png\"/></div></div><div class=\"list_image\"><img alt=\"The Perseverance rover at NASA's Kennedy Space Center \" src=\"/system/news_items/list_view_images/8649_PIA23828-MAINimage-RoverNamePlate-320x240.jpg\"/></div><div class=\"bottom_gradient\"><div><h3>NASA's Perseverance Mars Rover Gets Balanced</h3></div></div></a><div class=\"list_text\"><div class=\"list_date\">April 20, 2020</div><div class=\"content_title\"><a href=\"/news/8649/nasas-perseverance-mars-rover-gets-balanced/\" target=\"_self\">NASA's Perseverance Mars Rover Gets Balanced</a></div><div class=\"article_teaser_body\">The mission team performed a crucial weight-balancing test on the rover in preparation for this summer's history-making launch to the Red Planet.</div></div></div></li>, <li class=\"slide\"><div class=\"image_and_description_container\"><a href=\"/news/8647/nasas-curiosity-keeps-rolling-as-team-operates-rover-from-home/\" target=\"_self\"><div class=\"rollover_description\"><div class=\"rollover_description_inner\">The team has learned to meet new challenges as they work remotely on the Mars mission.</div><div class=\"overlay_arrow\"><img alt=\"More\" src=\"/assets/overlay-arrow.png\"/></div></div><div class=\"list_image\"><img alt=\"Members of the Mars Curiosity team working remotely\" src=\"/system/news_items/list_view_images/8647_PIA23773-32x24.jpg\"/></div><div class=\"bottom_gradient\"><div><h3>NASA's Curiosity Keeps Rolling As Team Operates Rover From Home</h3></div></div></a><div class=\"list_text\"><div class=\"list_date\">April 13, 2020</div><div class=\"content_title\"><a href=\"/news/8647/nasas-curiosity-keeps-rolling-as-team-operates-rover-from-home/\" target=\"_self\">NASA's Curiosity Keeps Rolling As Team Operates Rover From Home</a></div><div class=\"article_teaser_body\">The team has learned to meet new challenges as they work remotely on the Mars mission.</div></div></div></li>, <li class=\"slide\"><div class=\"image_and_description_container\"><a href=\"/news/8645/mars-helicopter-attached-to-nasas-perseverance-rover/\" target=\"_self\"><div class=\"rollover_description\"><div class=\"rollover_description_inner\">The team also fueled the rover's sky crane to get ready for this summer's history-making launch.</div><div class=\"overlay_arrow\"><img alt=\"More\" src=\"/assets/overlay-arrow.png\"/></div></div><div class=\"list_image\"><img alt=\"The Mars Helicopter attached to the belly of NASA's Perseverance\" src=\"/system/news_items/list_view_images/8645_PIA23824-RoverWithHelicopter-32x24.jpg\"/></div><div class=\"bottom_gradient\"><div><h3>Mars Helicopter Attached to NASA's Perseverance Rover</h3></div></div></a><div class=\"list_text\"><div class=\"list_date\">April 10, 2020</div><div class=\"content_title\"><a href=\"/news/8645/mars-helicopter-attached-to-nasas-perseverance-rover/\" target=\"_self\">Mars Helicopter Attached to NASA's Perseverance Rover</a></div><div class=\"article_teaser_body\">The team also fueled the rover's sky crane to get ready for this summer's history-making launch.</div></div></div></li>, <li class=\"slide\"><div class=\"image_and_description_container\"><a href=\"/news/8641/nasas-perseverance-mars-rover-gets-its-wheels-and-air-brakes/\" target=\"_self\"><div class=\"rollover_description\"><div class=\"rollover_description_inner\">After the rover was shipped from JPL to Kennedy Space Center, the team is getting closer to finalizing the spacecraft for launch later this summer.</div><div class=\"overlay_arrow\"><img alt=\"More\" src=\"/assets/overlay-arrow.png\"/></div></div><div class=\"list_image\"><img alt=\"An image of three of the six flight wheels that will travel to Mars\" src=\"/system/news_items/list_view_images/8641_PIA-23821-320x240.jpg\"/></div><div class=\"bottom_gradient\"><div><h3>NASA's Perseverance Mars Rover Gets Its Wheels and Air Brakes</h3></div></div></a><div class=\"list_text\"><div class=\"list_date\">April  3, 2020</div><div class=\"content_title\"><a href=\"/news/8641/nasas-perseverance-mars-rover-gets-its-wheels-and-air-brakes/\" target=\"_self\">NASA's Perseverance Mars Rover Gets Its Wheels and Air Brakes</a></div><div class=\"article_teaser_body\">After the rover was shipped from JPL to Kennedy Space Center, the team is getting closer to finalizing the spacecraft for launch later this summer.</div></div></div></li>, <li class=\"slide\"><div class=\"image_and_description_container\"><a href=\"/news/8639/the-man-who-wanted-to-fly-on-mars/\" target=\"_self\"><div class=\"rollover_description\"><div class=\"rollover_description_inner\">The Mars Helicopter is riding to the Red Planet this summer with NASA's Perseverance rover. The helicopter's chief engineer, Bob Balaram, shares the saga of how it came into being.</div><div class=\"overlay_arrow\"><img alt=\"More\" src=\"/assets/overlay-arrow.png\"/></div></div><div class=\"list_image\"><img alt=\"Image of Bob Balaram on the left and the Mars Helicopter model to the right.\" src=\"/system/news_items/list_view_images/8639_bob-heli-226.jpg\"/></div><div class=\"bottom_gradient\"><div><h3>The Man Who Wanted to Fly on Mars</h3></div></div></a><div class=\"list_text\"><div class=\"list_date\">April  1, 2020</div><div class=\"content_title\"><a href=\"/news/8639/the-man-who-wanted-to-fly-on-mars/\" target=\"_self\">The Man Who Wanted to Fly on Mars</a></div><div class=\"article_teaser_body\">The Mars Helicopter is riding to the Red Planet this summer with NASA's Perseverance rover. The helicopter's chief engineer, Bob Balaram, shares the saga of how it came into being.</div></div></div></li>]\n"
     ]
    }
   ],
   "source": [
    "print(results)"
   ]
  },
  {
   "cell_type": "code",
   "execution_count": 6,
   "metadata": {},
   "outputs": [
    {
     "name": "stdout",
     "output_type": "stream",
     "text": [
      "--------\n",
      "NASA's Ingenuity Mars Helicopter Recharges Its Batteries in Flight\n",
      "Headed to the Red Planet with the Perseverance rover, the pioneering helicopter is powered up for the first time in interplanetary space as part of a systems check.\n",
      "--------\n",
      "Celebrate Mars Reconnaissance Orbiter's Views From Above\n",
      "Marking its 15th anniversary since launch, one of the oldest spacecraft at the Red Planet has provided glimpses of dust devils, avalanches, and more.\n",
      "--------\n",
      "NASA's MAVEN Observes Martian Night Sky Pulsing in Ultraviolet Light\n",
      "Vast areas of the Martian night sky pulse in ultraviolet light, according to images from NASA’s MAVEN spacecraft. The results are being used to illuminate complex circulation patterns in the Martian atmosphere.\n",
      "--------\n",
      "8 Martian Postcards to Celebrate Curiosity's Landing Anniversary\n",
      "The NASA rover touched down eight years ago, on Aug. 5, 2012, and will soon be joined by a second rover, Perseverance.\n",
      "--------\n",
      "NASA, ULA Launch Mars 2020 Perseverance Rover Mission to Red Planet\n",
      "The agency's Mars 2020 mission is on its way. It will land at Jezero Crater in about seven months, on Feb. 18, 2021. \n",
      "--------\n",
      "NASA's Perseverance Rover Will Carry First Spacesuit Materials to Mars\n",
      "In a Q&A, spacesuit designer Amy Ross explains how five samples, including a piece of helmet visor, will be tested aboard the rover, which is targeting a July 30 launch. \n",
      "--------\n",
      "A New Video Captures the Science of NASA's Perseverance Mars Rover\n",
      "With a targeted launch date of July 30, the next robotic scientist NASA is sending to the to the Red Planet has big ambitions.\n",
      "--------\n",
      "NASA Invites Public to Share Excitement of Mars 2020 Perseverance Rover Launch\n",
      "There are lots of ways to participate in the historic event, which is targeted for July 30.\n",
      "--------\n",
      "NASA's Mars Perseverance Rover Passes Flight Readiness Review\n",
      "​The agency's Mars 2020 mission has one more big prelaunch review – the Launch Readiness Review, on July 27.\n",
      "--------\n",
      "NASA to Broadcast Mars 2020 Perseverance Launch, Prelaunch Activities\n",
      "Starting July 27, news activities will cover everything from mission engineering and science to returning samples from Mars to, of course, the launch itself.\n",
      "--------\n",
      "6 Things to Know About NASA's Ingenuity Mars Helicopter\n",
      "The first helicopter attempting to fly on another planet is a marvel of engineering. Get up to speed with these key facts about its plans.\n",
      "--------\n",
      "Join NASA for the Launch of the Mars 2020 Perseverance Rover\n",
      "No matter where you live, choose from a menu of activities to join NASA as we \"Countdown to Mars\" and launch the Perseverance rover to the Red Planet.\n",
      "--------\n",
      "NASA's Perseverance Rover Attached to Atlas V Rocket\n",
      "Ready for its launch later in the month, the Mars-bound rover will touch terra firma no more.\n",
      "--------\n",
      "7 Things to Know About the Mars 2020 Perseverance Rover Mission\n",
      "NASA's next rover to the Red Planet is slated to launch no earlier than July 30. These highlights will get you up to speed on the ambitious mission.\n",
      "--------\n",
      "NASA's InSight Flexes Its Arm While Its 'Mole' Hits Pause\n",
      "Now that the lander's robotic arm has helped the mole get underground, it will resume science activities that have been on hold.\n",
      "--------\n",
      "Curiosity Mars Rover's Summer Road Trip Has Begun\n",
      "After more than a year in the \"clay-bearing unit,\" Curiosity is making a mile-long journey around some deep sand so that it can explore higher up Mount Sharp.\n",
      "--------\n",
      "How NASA's Mars Helicopter Will Reach the Red Planet's Surface\n",
      "The small craft will seek to prove that powered, controlled flight is possible on another planet. But just getting it onto the surface of Mars will take a whole lot of ingenuity.\n",
      "--------\n",
      "The Launch Is Approaching for NASA's Next Mars Rover, Perseverance\n",
      "The Red Planet's surface has been visited by eight NASA spacecraft. The ninth will be the first that includes a roundtrip ticket in its flight plan. \n",
      "--------\n",
      "NASA to Hold Mars 2020 Perseverance Rover Launch Briefing\n",
      "Learn more about the agency's next Red Planet mission during a live event on June 17.\n",
      "--------\n",
      "While Stargazing on Mars, NASA's Curiosity Rover Spots Earth and Venus\n",
      "This new portrait of the Red Planet's neighbors was taken during a time when there's more dust in the air on Mars.\n",
      "--------\n",
      "NASA's Mars Rover Drivers Need Your Help\n",
      "Using an online tool to label Martian terrain types, you can train an artificial intelligence algorithm that could improve the way engineers guide the Curiosity rover.\n",
      "--------\n",
      "Three New Views of Mars' Moon Phobos\n",
      "Taken with the infrared camera aboard NASA's Odyssey orbiter, they reveal temperature variations on the small moon as it drifts into and out of Mars’ shadow.\n",
      "--------\n",
      "The Extraordinary Sample-Gathering System of NASA's Perseverance Mars Rover\n",
      "Two astronauts collected Moon rocks on Apollo 11. It will take three robotic systems working together to gather up the first Mars rock samples for return to Earth.\n",
      "--------\n",
      "The Detective Aboard NASA's Perseverance Rover\n",
      "An instrument called SHERLOC will, with the help of its partner WATSON, hunt for signs of ancient life by detecting organic molecules and minerals.\n",
      "--------\n",
      "MAVEN Maps Electric Currents around Mars that are Fundamental to Atmospheric Loss\n",
      "Five years after NASA’s MAVEN spacecraft entered into orbit around Mars, data from the mission has led to the creation of a map of electric current systems in the Martian atmosphere.\n",
      "--------\n",
      "Air Deliveries Bring NASA's Perseverance Mars Rover Closer to Launch\n",
      "A NASA Wallops Flight Facility cargo plane transported more than two tons of equipment — including the rover's sample collection tubes — to Florida for this summer's liftoff.\n",
      "--------\n",
      "NASA Wins 4 Webbys, 4 People's Voice Awards\n",
      "Winners include the JPL-managed \"Send Your Name to Mars\" campaign, NASA's Global Climate Change website and Solar System Interactive.\n",
      "--------\n",
      "NASA's Perseverance Rover Goes Through Trials by Fire, Ice, Light and Sound\n",
      "The agency's new Mars rover is put through a series of tests in vacuum chambers, acoustic chambers and more to get ready for the Red Planet.\n",
      "--------\n",
      "NASA's Perseverance Rover Mission Getting in Shape for Launch\n",
      "Stacking spacecraft components on top of each other is one of the final assembly steps before a mission launches to the Red Planet. \n",
      "--------\n",
      "NASA Perseverance Mars Rover Scientists Train in the Nevada Desert\n",
      "Team members searched for signs of ancient microscopic life there, just as NASA's latest rover will on the Red Planet next year.\n",
      "--------\n",
      "NASA's Perseverance Rover Will Look at Mars Through These 'Eyes'\n",
      "A pair of zoomable cameras will help scientists and rover drivers with high-resolution color images.\n",
      "--------\n",
      "Meet the People Behind NASA's Perseverance Rover\n",
      "These are the scientists and engineers who built NASA's next Mars rover and who will guide it to a safe landing in Jezero Crater. \n",
      "--------\n",
      "Q&A with the Student Who Named Ingenuity, NASA's Mars Helicopter\n",
      "As a longtime fan of space exploration, Vaneeza Rupani appreciates the creativity and collaboration involved with trying to fly on another planet.\n",
      "--------\n",
      "Alabama High School Student Names NASA's Mars Helicopter\n",
      "Vaneeza Rupani's essay was chosen as the name for the small spacecraft, which will mark NASA's first attempt at powered flight on another planet.\n",
      "--------\n",
      "How NASA's Perseverance Mars Team Adjusted to Work in the Time of Coronavirus \n",
      "Like much of the rest of the world, the Mars rover team is pushing forward with its mission-critical work while putting the health and safety of their colleagues and community first.\n",
      "--------\n",
      "NASA's Perseverance Mars Rover Gets Balanced\n",
      "The mission team performed a crucial weight-balancing test on the rover in preparation for this summer's history-making launch to the Red Planet.\n",
      "--------\n",
      "NASA's Curiosity Keeps Rolling As Team Operates Rover From Home\n",
      "The team has learned to meet new challenges as they work remotely on the Mars mission.\n",
      "--------\n",
      "Mars Helicopter Attached to NASA's Perseverance Rover\n",
      "The team also fueled the rover's sky crane to get ready for this summer's history-making launch.\n",
      "--------\n",
      "NASA's Perseverance Mars Rover Gets Its Wheels and Air Brakes\n",
      "After the rover was shipped from JPL to Kennedy Space Center, the team is getting closer to finalizing the spacecraft for launch later this summer.\n",
      "--------\n",
      "The Man Who Wanted to Fly on Mars\n",
      "The Mars Helicopter is riding to the Red Planet this summer with NASA's Perseverance rover. The helicopter's chief engineer, Bob Balaram, shares the saga of how it came into being.\n"
     ]
    }
   ],
   "source": [
    "title=[]\n",
    "paragraphs=[]\n",
    "# Loop through the results\n",
    "for x in results:\n",
    "    # Error handling\n",
    "    try:\n",
    "        news_title=x.find('div',attrs={'class':'content_title'}).get_text()\n",
    "        news_p=x.find('div',attrs={'class':'article_teaser_body'}).get_text()\n",
    "        title.append(news_title)\n",
    "        paragraphs.append(news_p)\n",
    "        if (news_title):\n",
    "            print('-'*8)\n",
    "            print(news_title)\n",
    "            print(news_p)\n",
    "    except AttributeError as e:\n",
    "        print(e)"
   ]
  },
  {
   "cell_type": "code",
   "execution_count": 7,
   "metadata": {},
   "outputs": [
    {
     "name": "stdout",
     "output_type": "stream",
     "text": [
      "https://www.jpl.nasa.gov/spaceimages/images/mediumsize/PIA18614_ip.jpg\n"
     ]
    }
   ],
   "source": [
    "# JPL mars url\n",
    "mar_image_url='https://www.jpl.nasa.gov/spaceimages/?search=&category=Mars'\n",
    "browser.visit(mar_image_url)\n",
    "browser.click_link_by_id('full_image')\n",
    "# Set sleep time for 2 seconds\n",
    "time.sleep(2)\n",
    "html2=browser.html\n",
    "soup2=bs(html2,'html.parser')\n",
    "# Setup the main url for the image.\n",
    "main_url='https://www.jpl.nasa.gov'\n",
    "\n",
    "image_url=soup2.find('img',attrs={'class':'fancybox-image'})['src']\n",
    "feature_image=main_url+image_url\n",
    "\n",
    "print(feature_image)\n",
    "\n"
   ]
  },
  {
   "cell_type": "code",
   "execution_count": 8,
   "metadata": {},
   "outputs": [],
   "source": [
    "# Mars weather from Twitter\n",
    "weather_url='https://twitter.com/MarsWxReport?lang=en'\n",
    "browser.visit(weather_url)\n",
    "# Set delay time for 2 seconds\n",
    "time.sleep(2)\n",
    "html3=browser.html\n",
    "soup3=bs(html3,'html.parser')\n",
    "# Find the tweets\n",
    "weather_tweet=soup3.find('div',attrs={'class':'css-1dbjc4n'})\\\n",
    ".find('div',attrs={'class':'css-1dbjc4n'})\\\n",
    ".find('div',attrs={'class':'css-901oao r-hkyrab r-1qd0xha r-a023e6 r-16dba41 r-ad9z0x r-bcqeeo r-bnwqim r-qvutc0'})\\\n",
    ".find('span',attrs={'class':'css-901oao css-16my406 r-1qd0xha r-ad9z0x r-bcqeeo r-qvutc0'})"
   ]
  },
  {
   "cell_type": "code",
   "execution_count": 9,
   "metadata": {},
   "outputs": [
    {
     "name": "stdout",
     "output_type": "stream",
     "text": [
      "<span class=\"css-901oao css-16my406 r-1qd0xha r-ad9z0x r-bcqeeo r-qvutc0\">InSight sol 609 (2020-08-13) low -93.2ºC (-135.7ºF) high -18.2ºC (-0.7ºF)\n",
      "winds from the WNW at 8.1 m/s (18.2 mph) gusting to 20.1 m/s (44.9 mph)\n",
      "pressure at 7.90 hPa</span>\n"
     ]
    }
   ],
   "source": [
    "print(weather_tweet)"
   ]
  },
  {
   "cell_type": "code",
   "execution_count": 10,
   "metadata": {},
   "outputs": [],
   "source": [
    "# Strip out the tweet from return output\n",
    "for mars_weather in weather_tweet:\n",
    "    if mars_weather.strip().startswith('Sol'):\n",
    "        weather_tweet=mars_weather.text.strip()"
   ]
  },
  {
   "cell_type": "code",
   "execution_count": 11,
   "metadata": {},
   "outputs": [
    {
     "name": "stdout",
     "output_type": "stream",
     "text": [
      "InSight sol 609 (2020-08-13) low -93.2ºC (-135.7ºF) high -18.2ºC (-0.7ºF)\n",
      "winds from the WNW at 8.1 m/s (18.2 mph) gusting to 20.1 m/s (44.9 mph)\n",
      "pressure at 7.90 hPa\n"
     ]
    }
   ],
   "source": [
    "print(mars_weather)"
   ]
  },
  {
   "cell_type": "code",
   "execution_count": 12,
   "metadata": {},
   "outputs": [
    {
     "data": {
      "text/html": [
       "<div>\n",
       "<style scoped>\n",
       "    .dataframe tbody tr th:only-of-type {\n",
       "        vertical-align: middle;\n",
       "    }\n",
       "\n",
       "    .dataframe tbody tr th {\n",
       "        vertical-align: top;\n",
       "    }\n",
       "\n",
       "    .dataframe thead th {\n",
       "        text-align: right;\n",
       "    }\n",
       "</style>\n",
       "<table border=\"1\" class=\"dataframe\">\n",
       "  <thead>\n",
       "    <tr style=\"text-align: right;\">\n",
       "      <th></th>\n",
       "      <th>Value</th>\n",
       "    </tr>\n",
       "    <tr>\n",
       "      <th>Description</th>\n",
       "      <th></th>\n",
       "    </tr>\n",
       "  </thead>\n",
       "  <tbody>\n",
       "    <tr>\n",
       "      <th>Equatorial Diameter:</th>\n",
       "      <td>6,792 km</td>\n",
       "    </tr>\n",
       "    <tr>\n",
       "      <th>Polar Diameter:</th>\n",
       "      <td>6,752 km</td>\n",
       "    </tr>\n",
       "    <tr>\n",
       "      <th>Mass:</th>\n",
       "      <td>6.39 × 10^23 kg (0.11 Earths)</td>\n",
       "    </tr>\n",
       "    <tr>\n",
       "      <th>Moons:</th>\n",
       "      <td>2 (Phobos &amp; Deimos)</td>\n",
       "    </tr>\n",
       "    <tr>\n",
       "      <th>Orbit Distance:</th>\n",
       "      <td>227,943,824 km (1.38 AU)</td>\n",
       "    </tr>\n",
       "    <tr>\n",
       "      <th>Orbit Period:</th>\n",
       "      <td>687 days (1.9 years)</td>\n",
       "    </tr>\n",
       "    <tr>\n",
       "      <th>Surface Temperature:</th>\n",
       "      <td>-87 to -5 °C</td>\n",
       "    </tr>\n",
       "    <tr>\n",
       "      <th>First Record:</th>\n",
       "      <td>2nd millennium BC</td>\n",
       "    </tr>\n",
       "    <tr>\n",
       "      <th>Recorded By:</th>\n",
       "      <td>Egyptian astronomers</td>\n",
       "    </tr>\n",
       "  </tbody>\n",
       "</table>\n",
       "</div>"
      ],
      "text/plain": [
       "                                              Value\n",
       "Description                                        \n",
       "Equatorial Diameter:                       6,792 km\n",
       "Polar Diameter:                            6,752 km\n",
       "Mass:                 6.39 × 10^23 kg (0.11 Earths)\n",
       "Moons:                          2 (Phobos & Deimos)\n",
       "Orbit Distance:            227,943,824 km (1.38 AU)\n",
       "Orbit Period:                  687 days (1.9 years)\n",
       "Surface Temperature:                   -87 to -5 °C\n",
       "First Record:                     2nd millennium BC\n",
       "Recorded By:                   Egyptian astronomers"
      ]
     },
     "execution_count": 12,
     "metadata": {},
     "output_type": "execute_result"
    }
   ],
   "source": [
    "# Read in the html site, then pick the first table\n",
    "mars_df=pd.read_html('https://space-facts.com/mars/')[0]\n",
    "# Setup the DataFrame\n",
    "mars_df.columns=['Description','Value']\n",
    "mars_df.set_index('Description',inplace=True)\n",
    "mars_df\n"
   ]
  },
  {
   "cell_type": "code",
   "execution_count": 16,
   "metadata": {},
   "outputs": [],
   "source": [
    "# Convert the mars_df to html table\n",
    "mars_html=mars_df.to_html('mars_html')\n",
    "\n"
   ]
  },
  {
   "cell_type": "code",
   "execution_count": 22,
   "metadata": {},
   "outputs": [],
   "source": [
    "# Mars hemispheres\n",
    "# hemi_url='https://astrogeology.usgs.gov/search/results?q=hemisphere+enhanced&k1=target&v1=Mars'\n",
    "hemi_list=['Cerberus','Schiaparelli','Syrtis Major','Valles Marineris']\n",
    "search_url='https://astrogeology.usgs.gov/search/map/Mars/Viking/'\n",
    "image_title=[]\n",
    "image_url=[]\n",
    "hemisphere_dict=[]\n",
    "for hemisphere in hemi_list:\n",
    "    browser.visit(search_url+hemisphere)\n",
    "    time.sleep(2)\n",
    "    html4=browser.html\n",
    "    soup4=bs(html4,'lxml')\n",
    "    img_title=soup4.find('h2',attrs={'class':'title'}).get_text()\n",
    "    img_url=soup4.find('div',attrs={'class':'downloads'})\\\n",
    "                        .find('ul').find('li').find('a')['href']\n",
    "    image_title.append(img_title)\n",
    "    image_url.append(img_url)\n",
    "    image_dictionary={'title':img_title,'img_url':img_url}\n",
    "    hemisphere_dict.append(image_dictionary)\n",
    "    browser.back()"
   ]
  },
  {
   "cell_type": "code",
   "execution_count": 23,
   "metadata": {},
   "outputs": [],
   "source": [
    "# # Create a list of dictionary for hemisphere\n",
    "# hemisphere_dict=dict(zip(image_title,image_url))"
   ]
  },
  {
   "cell_type": "code",
   "execution_count": 24,
   "metadata": {},
   "outputs": [
    {
     "data": {
      "text/plain": [
       "[{'title': 'Cerberus Hemisphere Enhanced',\n",
       "  'img_url': 'https://astropedia.astrogeology.usgs.gov/download/Mars/Viking/cerberus_enhanced.tif/full.jpg'},\n",
       " {'title': 'Schiaparelli Hemisphere Enhanced',\n",
       "  'img_url': 'https://astropedia.astrogeology.usgs.gov/download/Mars/Viking/schiaparelli_enhanced.tif/full.jpg'},\n",
       " {'title': 'Syrtis Major Hemisphere Enhanced',\n",
       "  'img_url': 'https://astropedia.astrogeology.usgs.gov/download/Mars/Viking/syrtis_major_enhanced.tif/full.jpg'},\n",
       " {'title': 'Valles Marineris Hemisphere Enhanced',\n",
       "  'img_url': 'https://astropedia.astrogeology.usgs.gov/download/Mars/Viking/valles_marineris_enhanced.tif/full.jpg'}]"
      ]
     },
     "execution_count": 24,
     "metadata": {},
     "output_type": "execute_result"
    }
   ],
   "source": [
    "# Display the dictionary\n",
    "hemisphere_dict"
   ]
  },
  {
   "cell_type": "code",
   "execution_count": null,
   "metadata": {},
   "outputs": [],
   "source": []
  },
  {
   "cell_type": "code",
   "execution_count": null,
   "metadata": {},
   "outputs": [],
   "source": []
  }
 ],
 "metadata": {
  "kernelspec": {
   "display_name": "Python [conda env:PythonData] *",
   "language": "python",
   "name": "conda-env-PythonData-py"
  },
  "language_info": {
   "codemirror_mode": {
    "name": "ipython",
    "version": 3
   },
   "file_extension": ".py",
   "mimetype": "text/x-python",
   "name": "python",
   "nbconvert_exporter": "python",
   "pygments_lexer": "ipython3",
   "version": "3.6.10"
  }
 },
 "nbformat": 4,
 "nbformat_minor": 4
}
